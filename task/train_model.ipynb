{
 "cells": [
  {
   "cell_type": "code",
   "execution_count": 202,
   "id": "e28e9ad2-194a-411e-b23f-1cd63e0d2998",
   "metadata": {},
   "outputs": [
    {
     "name": "stdout",
     "output_type": "stream",
     "text": [
      "1.4.2\n"
     ]
    }
   ],
   "source": [
    "import sklearn\n",
    "print(sklearn.__version__)"
   ]
  },
  {
   "cell_type": "code",
   "execution_count": 203,
   "id": "66c10733-68f0-4821-b3c1-8ccbbd3e1b55",
   "metadata": {},
   "outputs": [],
   "source": [
    "data = [(\"https://www.amazon.in/dp/B09G99CW2T\", \"product\"),\n",
    "    (\"https://www.amazon.in/Apple-iPhone-13-128GB-Blue/dp/B09G99CW2T\", \"product\"),\n",
    "    (\"https://www.amazon.in/Noise-Launched-Bluetooth-Calling-Tracking/dp/B0BJ72WZQ7?th=1\", \"product\"),\n",
    "    (\"https://www.amazon.in/dp/B0C3XGJWQ7\", \"product\"),\n",
    "    (\"https://www.amazon.in/dp/B07WFPMKD7\", \"product\"),\n",
    "    (\"https://www.amazon.in/dp/B09SH994JW\", \"product\"),\n",
    "    (\"https://www.amazon.in/dp/B08444S68M\", \"product\"),\n",
    "    (\"https://www.amazon.in/dp/B07DJHXTLJ\", \"product\"),\n",
    "    (\"https://www.amazon.in/dp/B07VJYZF59\", \"product\"),\n",
    "    (\"https://www.amazon.in/dp/B08444S5JD\", \"product\"),\n",
    "    (\"https://www.flipkart.com/apple-iphone-13-blue-128-gb/p/itm6e3b5b5a7cfd9\", \"product\"),\n",
    "    (\"https://www.flipkart.com/noise-crew-1-38-round-display-bluetooth-calling-metallic-finish-ip68-rating-smartwatch/p/itm9eb2931827255\", \"product\"),\n",
    "    (\"https://www.flipkart.com/redmi-note-12-pro-5g-icy-blue-128-gb/p/itm76d1e3ec4dd33\", \"product\"),\n",
    "    (\"https://www.flipkart.com/samsung-galaxy-m14-5g-smoky-teal-128-gb/p/itm1d1b761621bba\", \"product\"),\n",
    "    (\"https://www.flipkart.com/dell-inspiron-core-i5-11th-gen/p/itm2ba7566b9c6d7\", \"product\"),\n",
    "    (\"https://www.flipkart.com/acer-aspire-7-ryzen-5-hexa-core/p/itm4b6ed1a6b71d1\", \"product\"),\n",
    "    (\"https://www.flipkart.com/hp-pavilion-intel-core-i5-12th-gen/p/itm6f3311f2a3c84\", \"product\"),\n",
    "    (\"https://www.flipkart.com/asus-vivobook-15-core-i3-12th-gen/p/itmbb3d3c324a0e6\", \"product\"),\n",
    "    (\"https://www.flipkart.com/boat-airdopes-121v2-bluetooth-headset/p/itmbe0d46a4f7a6e\", \"product\"),\n",
    "    (\"https://www.flipkart.com/sony-wh-1000xm4-bluetooth-headset/p/itm0cfaa7bbdb3d6\", \"product\"),\n",
    "    (\"https://www.flipkart.com/jbl-c100si-wired-headset/p/itm7c94f033b99c3\", \"product\"),\n",
    "    (\"https://www.flipkart.com/realme-buds-wireless-2-neo-bluetooth-headset/p/itm14bb7ff4d12b3\", \"product\"),\n",
    "    (\"https://www.flipkart.com/mi-dual-driver-wired-headset/p/itm1e2190fcbf8db\", \"product\"),\n",
    "    (\"https://www.amazon.in/dp/B08N5WRWNW\", \"product\"),\n",
    "    (\"https://www.amazon.in/dp/B08N5VSQNG\", \"product\"),\n",
    "    (\"https://www.amazon.in/dp/B097R87DF3\", \"product\"),\n",
    "    (\"https://www.amazon.in/dp/B09GFPVD5J\", \"product\"),\n",
    "    (\"https://www.amazon.in/dp/B08P9KJ1N7\", \"product\"),\n",
    "    (\"https://www.amazon.in/dp/B08P9KW3CD\", \"product\"),\n",
    "    (\"https://www.amazon.in/dp/B07WSY6VGT\", \"product\"),\n",
    "    (\"https://www.amazon.in/dp/B07WSYGVGZ\", \"product\"),\n",
    "    (\"https://www.amazon.in/dp/B07Y5Y3M89\", \"product\"),\n",
    "    (\"https://www.amazon.in/dp/B08H7Z21KF\", \"product\"),\n",
    "    (\"https://www.amazon.in/dp/B09WRM9SKD\", \"product\"),\n",
    "    (\"https://www.amazon.in/dp/B0B3R7FZHC\", \"product\"),\n",
    "    (\"https://www.amazon.in/dp/B097R8FYW4\", \"product\"),\n",
    "    (\"https://www.amazon.in/dp/B08N5W4NNB\", \"product\"),\n",
    "    (\"https://www.amazon.in/dp/B07DJHXTLJ\", \"product\"),\n",
    "    (\"https://www.google.com/shopping/product/16848581607082948437\", \"product\"),\n",
    "    (\"https://www.google.com/shopping/product/9432095483203456234\", \"product\"),\n",
    "    (\"https://www.google.com/shopping/product/13987502839485738457\", \"product\"),\n",
    "    (\"https://www.google.com/shopping/product/98435798457384957834\", \"product\"),\n",
    "    (\"https://www.google.com/shopping/product/84579028475902845739\", \"product\"),\n",
    "    (\"https://www.google.com/shopping/product/92845793485739485723\", \"product\"),\n",
    "    (\"https://www.google.com/shopping/product/48975938475029485702\", \"product\"),\n",
    "    (\"https://www.google.com/shopping/product/53984579384579384579\", \"product\"),\n",
    "    (\"https://www.google.com/shopping/product/53984579384579384579\", \"product\"),\n",
    "    (\"https://www.google.com/shopping/product/93485792384792384792\", \"product\"),\n",
    "    (\"https://www.google.com/shopping/product/32847923487923487234\", \"product\"),\n",
    "    (\"https://www.amazon.in/s?k=noise+crew+smartwatch+1.38\", \"not_product\"),\n",
    "    (\"https://www.flipkart.com/search?q=noise+watch\", \"not_product\"),\n",
    "    (\"https://www.amazon.in/gp/bestsellers/electronics/976419031\", \"not_product\"),\n",
    "    (\"https://www.flipkart.com/wearable-smart-devices/smart-watches/noise~brand/pr?sid=ajy%2Cbuh\", \"not_product\"),\n",
    "    (\"https://www.flipkart.com/mens-watches/pr?sid=r18,f13\", \"not_product\"),\n",
    "    (\"https://www.amazon.in/gp/goldbox\", \"not_product\"),\n",
    "    (\"https://www.flipkart.com/offers-store\", \"not_product\"),\n",
    "    (\"https://www.amazon.in/b/?node=976419031\", \"not_product\"),\n",
    "    (\"https://www.flipkart.com/electronics-store\", \"not_product\"),\n",
    "    (\"https://www.amazon.in/s?k=smartphones\", \"not_product\"),\n",
    "    (\"https://www.google.com/search?q=iphone+13\", \"not_product\"),\n",
    "    (\"https://www.google.com/search?q=best+laptop+under+60000\", \"not_product\"),\n",
    "    (\"https://www.google.com/shopping\", \"not_product\"),\n",
    "    (\"https://www.google.com/search?q=buy+noise+smartwatch\", \"not_product\"),\n",
    "    (\"https://www.google.com/shopping/search?q=noise+watch\", \"not_product\"),\n",
    "    (\"https://www.flipkart.com/smart-watches/pr?sid=ajy,buh\", \"not_product\"),\n",
    "    (\"https://www.flipkart.com/laptops-store\", \"not_product\"),\n",
    "    (\"https://www.amazon.in/smart-watches/b?ie=UTF8&node=5605728031\", \"not_product\"),\n",
    "    (\"https://www.amazon.in/gp/new-releases\", \"not_product\"),\n",
    "    (\"https://www.amazon.in/Deals/sale\", \"not_product\"),\n",
    "    (\"https://www.amazon.in/s?k=laptop+under+50000\", \"not_product\"),\n",
    "    (\"https://www.flipkart.com/search?q=laptop+under+50000\", \"not_product\"),\n",
    "    (\"https://www.flipkart.com/sell-online\", \"not_product\"),\n",
    "    (\"https://www.flipkart.com/helpcentre\", \"not_product\"),\n",
    "    (\"https://www.flipkart.com/about-us\", \"not_product\"),\n",
    "    (\"https://www.amazon.in/gp/help/customer/display.html\", \"not_product\"),\n",
    "    (\"https://www.amazon.in/gp/cart/view.html\", \"not_product\"),\n",
    "    (\"https://www.amazon.in/gp/browse.html?node=1389401031\", \"not_product\"),\n",
    "    (\"https://www.amazon.in/s?k=headphones\", \"not_product\"),\n",
    "    (\"https://www.flipkart.com/headphones-store\", \"not_product\"),\n",
    "    (\"https://www.flipkart.com/smartphones-store\", \"not_product\"),\n",
    "    (\"https://www.amazon.in/b?node=1389432031\", \"not_product\"),\n",
    "    (\"https://www.amazon.in/s?k=gaming+laptop\", \"not_product\"),\n",
    "    (\"https://www.flipkart.com/search?q=wireless+headphones\", \"not_product\"),\n",
    "    (\"https://www.flipkart.com/offers\", \"not_product\"),\n",
    "    (\"https://www.flipkart.com/dmart\", \"not_product\"),\n",
    "    (\"https://www.amazon.in/dmart-store\", \"not_product\"),\n",
    "    (\"https://www.amazon.in/s?k=fitness+band\", \"not_product\"),\n",
    "    (\"https://www.flipkart.com/search?q=fitness+band\", \"not_product\"),\n",
    "    (\"https://www.google.com/search?q=macbook+air+vs+pro\", \"not_product\"),\n",
    "    (\"https://www.google.com/search?q=flipkart+noise+watch+offer\", \"not_product\"),\n",
    "    (\"https://www.google.com/search?q=top+phones+2025\", \"not_product\"),\n",
    "    (\"https://www.google.com/shopping/search?q=budget+phones+2025\", \"not_product\"),\n",
    "    (\"https://www.google.com/shopping/search?q=fitness+trackers\", \"not_product\"),\n",
    "    (\"https://www.google.com/shopping/search?q=cheap+earbuds\", \"not_product\"),\n",
    "    (\"https://www.google.com/shopping/search?q=best+bluetooth+speakers\", \"not_product\"),\n",
    "    (\"https://www.google.com/shopping/search?q=compare+noise+vs+boat\", \"not_product\"),\n",
    "    (\"https://www.google.com/shopping/search?q=kids+smart+watch\", \"not_product\"),\n",
    "    (\"https://www.google.com/shopping/search?q=best+fitness+smartwatch\", \"not_product\"),\n",
    "    (\"https://www.bunzlchs.com/Hygiene-Paper-and-Wipes/Toilet-Tissue/Toilet-Tissue-Dispensers-and-Holders~c~BCHSAPA\", \"not_product\"),\n",
    "    (\"https://www.myntra.com/smart-watches/noise/noise-crew-with-bt-calling--metallic-finish-ip68-rating-138-round-display-smartwatch/23529198/buy\", \"product\"),\n",
    "    (\"https://www.myntra.com/smart-watches/noise/noise-crew-with-bt-calling--metallic-finish-ip68-rating-138-round-display-smartwatch/23529198/buy\", \"product\"),\n",
    "    (\"https://www.ahpmedicals.com/tork-mini-jumbo-toilet-roll-dispenser-white-pack-of-1.html\", \"product\"),\n",
    "    (\"https://janitorialessentials.com/paper-products/jumbo-toilet-tissue\", \"not_product\"),\n",
    "]"
   ]
  },
  {
   "cell_type": "code",
   "execution_count": 204,
   "id": "ac995a43-2707-443e-b807-857a56aea9c1",
   "metadata": {},
   "outputs": [],
   "source": [
    "# I store the data in urls.csv file\n",
    "import csv\n",
    "with open('urls.csv', mode='w', newline='', encoding='utf-8') as file:\n",
    "    writer = csv.writer(file)\n",
    "    writer.writerow(['ind_feature', 'dep_feature'])  # header row\n",
    "    writer.writerows(data)"
   ]
  },
  {
   "cell_type": "code",
   "execution_count": 205,
   "id": "a34cfe52-4a8f-466d-8246-e1105004d74f",
   "metadata": {},
   "outputs": [
    {
     "data": {
      "text/plain": [
       "'https://www.amazon.in/dp/B09G99CW2T'"
      ]
     },
     "execution_count": 205,
     "metadata": {},
     "output_type": "execute_result"
    }
   ],
   "source": [
    "data[0][0]"
   ]
  },
  {
   "cell_type": "markdown",
   "id": "0581a73d-80fc-4a83-88cb-5633bc20b1af",
   "metadata": {},
   "source": [
    "# Create a DataFrame"
   ]
  },
  {
   "cell_type": "code",
   "execution_count": 207,
   "id": "bf5a179c-811e-4029-9d9c-c2cd34c0820d",
   "metadata": {},
   "outputs": [],
   "source": [
    "import pandas as pd\n",
    "import numpy as np\n",
    "\n",
    "# Create the DataFrame directly\n",
    "df = pd.DataFrame(data, columns=['ind_feature', 'dep_feature'])"
   ]
  },
  {
   "cell_type": "code",
   "execution_count": 208,
   "id": "c8ebfb9b-41e2-4f11-9293-9b5eac1cba92",
   "metadata": {},
   "outputs": [
    {
     "name": "stdout",
     "output_type": "stream",
     "text": [
      "<class 'pandas.core.frame.DataFrame'>\n",
      "RangeIndex: 103 entries, 0 to 102\n",
      "Data columns (total 2 columns):\n",
      " #   Column       Non-Null Count  Dtype \n",
      "---  ------       --------------  ----- \n",
      " 0   ind_feature  103 non-null    object\n",
      " 1   dep_feature  103 non-null    object\n",
      "dtypes: object(2)\n",
      "memory usage: 16.2 KB\n"
     ]
    }
   ],
   "source": [
    "df.info(memory_usage='deep')"
   ]
  },
  {
   "cell_type": "code",
   "execution_count": 209,
   "id": "cf4c1ab5-b93b-4ffe-9f55-a679ffe104a6",
   "metadata": {},
   "outputs": [
    {
     "data": {
      "text/html": [
       "<div>\n",
       "<style scoped>\n",
       "    .dataframe tbody tr th:only-of-type {\n",
       "        vertical-align: middle;\n",
       "    }\n",
       "\n",
       "    .dataframe tbody tr th {\n",
       "        vertical-align: top;\n",
       "    }\n",
       "\n",
       "    .dataframe thead th {\n",
       "        text-align: right;\n",
       "    }\n",
       "</style>\n",
       "<table border=\"1\" class=\"dataframe\">\n",
       "  <thead>\n",
       "    <tr style=\"text-align: right;\">\n",
       "      <th></th>\n",
       "      <th>ind_feature</th>\n",
       "      <th>dep_feature</th>\n",
       "    </tr>\n",
       "  </thead>\n",
       "  <tbody>\n",
       "    <tr>\n",
       "      <th>0</th>\n",
       "      <td>https://www.amazon.in/dp/B09G99CW2T</td>\n",
       "      <td>product</td>\n",
       "    </tr>\n",
       "    <tr>\n",
       "      <th>1</th>\n",
       "      <td>https://www.amazon.in/Apple-iPhone-13-128GB-Bl...</td>\n",
       "      <td>product</td>\n",
       "    </tr>\n",
       "    <tr>\n",
       "      <th>2</th>\n",
       "      <td>https://www.amazon.in/Noise-Launched-Bluetooth...</td>\n",
       "      <td>product</td>\n",
       "    </tr>\n",
       "    <tr>\n",
       "      <th>3</th>\n",
       "      <td>https://www.amazon.in/dp/B0C3XGJWQ7</td>\n",
       "      <td>product</td>\n",
       "    </tr>\n",
       "    <tr>\n",
       "      <th>4</th>\n",
       "      <td>https://www.amazon.in/dp/B07WFPMKD7</td>\n",
       "      <td>product</td>\n",
       "    </tr>\n",
       "  </tbody>\n",
       "</table>\n",
       "</div>"
      ],
      "text/plain": [
       "                                         ind_feature dep_feature\n",
       "0                https://www.amazon.in/dp/B09G99CW2T     product\n",
       "1  https://www.amazon.in/Apple-iPhone-13-128GB-Bl...     product\n",
       "2  https://www.amazon.in/Noise-Launched-Bluetooth...     product\n",
       "3                https://www.amazon.in/dp/B0C3XGJWQ7     product\n",
       "4                https://www.amazon.in/dp/B07WFPMKD7     product"
      ]
     },
     "execution_count": 209,
     "metadata": {},
     "output_type": "execute_result"
    }
   ],
   "source": [
    "df.head()"
   ]
  },
  {
   "cell_type": "markdown",
   "id": "7b652e93-ff6e-4f73-b9f9-51e89a288fbc",
   "metadata": {},
   "source": [
    "# Preprocess the data"
   ]
  },
  {
   "cell_type": "code",
   "execution_count": 211,
   "id": "7dcb9554-d3d4-4894-914d-1a02bb5bc1a3",
   "metadata": {},
   "outputs": [],
   "source": [
    "df['ind_feature'] = df['ind_feature'].str.strip('https://www.')"
   ]
  },
  {
   "cell_type": "code",
   "execution_count": 212,
   "id": "53a75296-d1ba-4829-b3ad-309de6267e40",
   "metadata": {},
   "outputs": [],
   "source": [
    "df['ind_feature'] = df['ind_feature'].str.replace(\".in\", \"\")"
   ]
  },
  {
   "cell_type": "code",
   "execution_count": 213,
   "id": "57d495c8-f42a-4f0d-b036-eef99ac877b7",
   "metadata": {},
   "outputs": [],
   "source": [
    "df['ind_feature'] = df['ind_feature'].str.replace(\".com\", \"\")"
   ]
  },
  {
   "cell_type": "code",
   "execution_count": 214,
   "id": "51536b35-4f59-4318-b5ba-82f8628ede9d",
   "metadata": {},
   "outputs": [],
   "source": [
    "df['ind_feature'] = df['ind_feature'].str.replace(\"/\", \" \")"
   ]
  },
  {
   "cell_type": "code",
   "execution_count": 215,
   "id": "1164c90c-6450-4aec-a524-985b88f8d00f",
   "metadata": {},
   "outputs": [],
   "source": [
    "df['ind_feature'] = df['ind_feature'].str.replace(\"-\", \" \")"
   ]
  },
  {
   "cell_type": "code",
   "execution_count": 216,
   "id": "7f4811a7-1ba4-4236-b512-a95f0cbd8408",
   "metadata": {},
   "outputs": [],
   "source": [
    "df['ind_feature'] = (\n",
    "    df['ind_feature']  \n",
    "    .str.strip()                              # remove leading/trailing spaces\n",
    "    .str.lower()                              # make lowercase\n",
    "    .str.replace(r'\\s+', ' ', regex=True)     # normalize spaces\n",
    ")"
   ]
  },
  {
   "cell_type": "code",
   "execution_count": 217,
   "id": "7224e6ab-8bbd-4475-9c25-ff15bd3f18b7",
   "metadata": {},
   "outputs": [],
   "source": [
    "df['dep_feature'] = df['dep_feature'].str.lower()   "
   ]
  },
  {
   "cell_type": "code",
   "execution_count": 218,
   "id": "96dbcb94-dc08-4cad-a3fa-c85e8071f05e",
   "metadata": {},
   "outputs": [],
   "source": [
    "df['dep_feature'] = df['dep_feature'].apply(lambda x: 1 if x == \"product\"  else 0 )"
   ]
  },
  {
   "cell_type": "code",
   "execution_count": 219,
   "id": "4bdbc653-46ff-45bc-9fe6-3459a954f9e9",
   "metadata": {},
   "outputs": [
    {
     "data": {
      "text/plain": [
       "3"
      ]
     },
     "execution_count": 219,
     "metadata": {},
     "output_type": "execute_result"
    }
   ],
   "source": [
    "df['ind_feature'].duplicated().sum()"
   ]
  },
  {
   "cell_type": "code",
   "execution_count": 220,
   "id": "d14f1013-a4fa-4918-b761-af246b4c7b96",
   "metadata": {},
   "outputs": [],
   "source": [
    "df.drop_duplicates(subset='ind_feature',keep='last',ignore_index=True,inplace=True)"
   ]
  },
  {
   "cell_type": "code",
   "execution_count": 221,
   "id": "22a7fe92-570c-4e0d-887c-652b1a9e8b03",
   "metadata": {},
   "outputs": [
    {
     "data": {
      "text/plain": [
       "ind_feature    0\n",
       "dep_feature    0\n",
       "dtype: int64"
      ]
     },
     "execution_count": 221,
     "metadata": {},
     "output_type": "execute_result"
    }
   ],
   "source": [
    "df.isna().sum()"
   ]
  },
  {
   "cell_type": "code",
   "execution_count": 222,
   "id": "f4b11142-6759-4960-af05-1665d2ef4372",
   "metadata": {},
   "outputs": [],
   "source": [
    "df.dropna(inplace=True)"
   ]
  },
  {
   "cell_type": "code",
   "execution_count": 223,
   "id": "0ae48074-feb0-4473-9c7c-6b83204ac724",
   "metadata": {},
   "outputs": [
    {
     "data": {
      "text/html": [
       "<div>\n",
       "<style scoped>\n",
       "    .dataframe tbody tr th:only-of-type {\n",
       "        vertical-align: middle;\n",
       "    }\n",
       "\n",
       "    .dataframe tbody tr th {\n",
       "        vertical-align: top;\n",
       "    }\n",
       "\n",
       "    .dataframe thead th {\n",
       "        text-align: right;\n",
       "    }\n",
       "</style>\n",
       "<table border=\"1\" class=\"dataframe\">\n",
       "  <thead>\n",
       "    <tr style=\"text-align: right;\">\n",
       "      <th></th>\n",
       "      <th>ind_feature</th>\n",
       "      <th>dep_feature</th>\n",
       "    </tr>\n",
       "  </thead>\n",
       "  <tbody>\n",
       "    <tr>\n",
       "      <th>0</th>\n",
       "      <td>amazon dp b09g99cw2t</td>\n",
       "      <td>1</td>\n",
       "    </tr>\n",
       "    <tr>\n",
       "      <th>1</th>\n",
       "      <td>amazon apple iphone 13 128gb blue dp b09g99cw2t</td>\n",
       "      <td>1</td>\n",
       "    </tr>\n",
       "    <tr>\n",
       "      <th>2</th>\n",
       "      <td>amazon noise launched bluetooth calling tracki...</td>\n",
       "      <td>1</td>\n",
       "    </tr>\n",
       "    <tr>\n",
       "      <th>3</th>\n",
       "      <td>amazon dp b0c3xgjwq7</td>\n",
       "      <td>1</td>\n",
       "    </tr>\n",
       "    <tr>\n",
       "      <th>4</th>\n",
       "      <td>amazon dp b07wfpmkd7</td>\n",
       "      <td>1</td>\n",
       "    </tr>\n",
       "  </tbody>\n",
       "</table>\n",
       "</div>"
      ],
      "text/plain": [
       "                                         ind_feature  dep_feature\n",
       "0                               amazon dp b09g99cw2t            1\n",
       "1    amazon apple iphone 13 128gb blue dp b09g99cw2t            1\n",
       "2  amazon noise launched bluetooth calling tracki...            1\n",
       "3                               amazon dp b0c3xgjwq7            1\n",
       "4                               amazon dp b07wfpmkd7            1"
      ]
     },
     "execution_count": 223,
     "metadata": {},
     "output_type": "execute_result"
    }
   ],
   "source": [
    "df.head()"
   ]
  },
  {
   "cell_type": "markdown",
   "id": "eb564267-016c-4ef2-8fbd-909923e4bf29",
   "metadata": {},
   "source": [
    "# USING TF-IDF VECTOR"
   ]
  },
  {
   "cell_type": "code",
   "execution_count": 225,
   "id": "20da799a-d4ce-4711-89f2-c145a0ebc24b",
   "metadata": {},
   "outputs": [],
   "source": [
    "from sklearn.feature_extraction.text import TfidfVectorizer"
   ]
  },
  {
   "cell_type": "code",
   "execution_count": 226,
   "id": "5dbc794e-4cc9-4d11-8e37-ab22abe621e9",
   "metadata": {},
   "outputs": [],
   "source": [
    "vector = TfidfVectorizer(lowercase=True, preprocessor=None, tokenizer=None, analyzer='word', stop_words='english',  norm='l2', use_idf=True, smooth_idf=True)"
   ]
  },
  {
   "cell_type": "code",
   "execution_count": 227,
   "id": "cec9e5be-e757-403f-bf09-ce0ef4bfeac6",
   "metadata": {},
   "outputs": [
    {
     "data": {
      "text/plain": [
       "{'analyzer': 'word',\n",
       " 'binary': False,\n",
       " 'decode_error': 'strict',\n",
       " 'dtype': numpy.float64,\n",
       " 'encoding': 'utf-8',\n",
       " 'input': 'content',\n",
       " 'lowercase': True,\n",
       " 'max_df': 1.0,\n",
       " 'max_features': None,\n",
       " 'min_df': 1,\n",
       " 'ngram_range': (1, 1),\n",
       " 'norm': 'l2',\n",
       " 'preprocessor': None,\n",
       " 'smooth_idf': True,\n",
       " 'stop_words': 'english',\n",
       " 'strip_accents': None,\n",
       " 'sublinear_tf': False,\n",
       " 'token_pattern': '(?u)\\\\b\\\\w\\\\w+\\\\b',\n",
       " 'tokenizer': None,\n",
       " 'use_idf': True,\n",
       " 'vocabulary': None}"
      ]
     },
     "execution_count": 227,
     "metadata": {},
     "output_type": "execute_result"
    }
   ],
   "source": [
    "vector.get_params(deep=True)"
   ]
  },
  {
   "cell_type": "code",
   "execution_count": 228,
   "id": "9d37773f-74cb-4521-b4c3-d1f0843a2569",
   "metadata": {},
   "outputs": [],
   "source": [
    "vector_arr = vector.fit_transform(df['ind_feature'])"
   ]
  },
  {
   "cell_type": "markdown",
   "id": "9b8e7ed3-1808-42ec-b187-6b265797025e",
   "metadata": {},
   "source": [
    "# Split the data"
   ]
  },
  {
   "cell_type": "code",
   "execution_count": 230,
   "id": "dc8df737-0ebd-4032-a62f-2532064c71ce",
   "metadata": {},
   "outputs": [],
   "source": [
    "from sklearn.model_selection import train_test_split"
   ]
  },
  {
   "cell_type": "code",
   "execution_count": 231,
   "id": "842114a7-a3b6-4f0d-b10e-f21471255381",
   "metadata": {},
   "outputs": [],
   "source": [
    "X_train,X_test,y_train,y_test = train_test_split(vector_arr,df['dep_feature'],test_size=0.2,random_state=45)"
   ]
  },
  {
   "cell_type": "code",
   "execution_count": 232,
   "id": "a7bf06aa-c395-422e-bda5-234fb84893ec",
   "metadata": {},
   "outputs": [],
   "source": [
    "# Check the classes are split into balanced or not"
   ]
  },
  {
   "cell_type": "code",
   "execution_count": 233,
   "id": "248ce5ac-2ab5-4f81-b713-27a238084886",
   "metadata": {},
   "outputs": [
    {
     "data": {
      "text/plain": [
       "dep_feature\n",
       "0    41\n",
       "1    39\n",
       "Name: count, dtype: int64"
      ]
     },
     "execution_count": 233,
     "metadata": {},
     "output_type": "execute_result"
    }
   ],
   "source": [
    "y_train.value_counts()"
   ]
  },
  {
   "cell_type": "code",
   "execution_count": 234,
   "id": "a0c5da51-e8b6-4017-b4de-bedda27b4f4b",
   "metadata": {},
   "outputs": [
    {
     "data": {
      "text/plain": [
       "dep_feature\n",
       "1    10\n",
       "0    10\n",
       "Name: count, dtype: int64"
      ]
     },
     "execution_count": 234,
     "metadata": {},
     "output_type": "execute_result"
    }
   ],
   "source": [
    "y_test.value_counts()"
   ]
  },
  {
   "cell_type": "markdown",
   "id": "a6a05243-fe7b-4a42-a2b7-dccbec34e158",
   "metadata": {},
   "source": [
    "# Using Naive Bayes we can create an object of the model"
   ]
  },
  {
   "cell_type": "code",
   "execution_count": 236,
   "id": "05fc05c9-1949-4578-aae7-5b521fa4ff99",
   "metadata": {},
   "outputs": [],
   "source": [
    "from sklearn.naive_bayes import MultinomialNB"
   ]
  },
  {
   "cell_type": "code",
   "execution_count": 237,
   "id": "9e06577a-e894-443b-93e6-8f0bbeecaa76",
   "metadata": {},
   "outputs": [],
   "source": [
    "nb_model = MultinomialNB()"
   ]
  },
  {
   "cell_type": "markdown",
   "id": "75a013f3-d32e-4098-ac83-4df72432692c",
   "metadata": {},
   "source": [
    "# Train the model"
   ]
  },
  {
   "cell_type": "code",
   "execution_count": 239,
   "id": "628494dd-fd49-4cf4-8577-3093d306aff6",
   "metadata": {},
   "outputs": [
    {
     "data": {
      "text/html": [
       "<style>#sk-container-id-3 {\n",
       "  /* Definition of color scheme common for light and dark mode */\n",
       "  --sklearn-color-text: black;\n",
       "  --sklearn-color-line: gray;\n",
       "  /* Definition of color scheme for unfitted estimators */\n",
       "  --sklearn-color-unfitted-level-0: #fff5e6;\n",
       "  --sklearn-color-unfitted-level-1: #f6e4d2;\n",
       "  --sklearn-color-unfitted-level-2: #ffe0b3;\n",
       "  --sklearn-color-unfitted-level-3: chocolate;\n",
       "  /* Definition of color scheme for fitted estimators */\n",
       "  --sklearn-color-fitted-level-0: #f0f8ff;\n",
       "  --sklearn-color-fitted-level-1: #d4ebff;\n",
       "  --sklearn-color-fitted-level-2: #b3dbfd;\n",
       "  --sklearn-color-fitted-level-3: cornflowerblue;\n",
       "\n",
       "  /* Specific color for light theme */\n",
       "  --sklearn-color-text-on-default-background: var(--sg-text-color, var(--theme-code-foreground, var(--jp-content-font-color1, black)));\n",
       "  --sklearn-color-background: var(--sg-background-color, var(--theme-background, var(--jp-layout-color0, white)));\n",
       "  --sklearn-color-border-box: var(--sg-text-color, var(--theme-code-foreground, var(--jp-content-font-color1, black)));\n",
       "  --sklearn-color-icon: #696969;\n",
       "\n",
       "  @media (prefers-color-scheme: dark) {\n",
       "    /* Redefinition of color scheme for dark theme */\n",
       "    --sklearn-color-text-on-default-background: var(--sg-text-color, var(--theme-code-foreground, var(--jp-content-font-color1, white)));\n",
       "    --sklearn-color-background: var(--sg-background-color, var(--theme-background, var(--jp-layout-color0, #111)));\n",
       "    --sklearn-color-border-box: var(--sg-text-color, var(--theme-code-foreground, var(--jp-content-font-color1, white)));\n",
       "    --sklearn-color-icon: #878787;\n",
       "  }\n",
       "}\n",
       "\n",
       "#sk-container-id-3 {\n",
       "  color: var(--sklearn-color-text);\n",
       "}\n",
       "\n",
       "#sk-container-id-3 pre {\n",
       "  padding: 0;\n",
       "}\n",
       "\n",
       "#sk-container-id-3 input.sk-hidden--visually {\n",
       "  border: 0;\n",
       "  clip: rect(1px 1px 1px 1px);\n",
       "  clip: rect(1px, 1px, 1px, 1px);\n",
       "  height: 1px;\n",
       "  margin: -1px;\n",
       "  overflow: hidden;\n",
       "  padding: 0;\n",
       "  position: absolute;\n",
       "  width: 1px;\n",
       "}\n",
       "\n",
       "#sk-container-id-3 div.sk-dashed-wrapped {\n",
       "  border: 1px dashed var(--sklearn-color-line);\n",
       "  margin: 0 0.4em 0.5em 0.4em;\n",
       "  box-sizing: border-box;\n",
       "  padding-bottom: 0.4em;\n",
       "  background-color: var(--sklearn-color-background);\n",
       "}\n",
       "\n",
       "#sk-container-id-3 div.sk-container {\n",
       "  /* jupyter's `normalize.less` sets `[hidden] { display: none; }`\n",
       "     but bootstrap.min.css set `[hidden] { display: none !important; }`\n",
       "     so we also need the `!important` here to be able to override the\n",
       "     default hidden behavior on the sphinx rendered scikit-learn.org.\n",
       "     See: https://github.com/scikit-learn/scikit-learn/issues/21755 */\n",
       "  display: inline-block !important;\n",
       "  position: relative;\n",
       "}\n",
       "\n",
       "#sk-container-id-3 div.sk-text-repr-fallback {\n",
       "  display: none;\n",
       "}\n",
       "\n",
       "div.sk-parallel-item,\n",
       "div.sk-serial,\n",
       "div.sk-item {\n",
       "  /* draw centered vertical line to link estimators */\n",
       "  background-image: linear-gradient(var(--sklearn-color-text-on-default-background), var(--sklearn-color-text-on-default-background));\n",
       "  background-size: 2px 100%;\n",
       "  background-repeat: no-repeat;\n",
       "  background-position: center center;\n",
       "}\n",
       "\n",
       "/* Parallel-specific style estimator block */\n",
       "\n",
       "#sk-container-id-3 div.sk-parallel-item::after {\n",
       "  content: \"\";\n",
       "  width: 100%;\n",
       "  border-bottom: 2px solid var(--sklearn-color-text-on-default-background);\n",
       "  flex-grow: 1;\n",
       "}\n",
       "\n",
       "#sk-container-id-3 div.sk-parallel {\n",
       "  display: flex;\n",
       "  align-items: stretch;\n",
       "  justify-content: center;\n",
       "  background-color: var(--sklearn-color-background);\n",
       "  position: relative;\n",
       "}\n",
       "\n",
       "#sk-container-id-3 div.sk-parallel-item {\n",
       "  display: flex;\n",
       "  flex-direction: column;\n",
       "}\n",
       "\n",
       "#sk-container-id-3 div.sk-parallel-item:first-child::after {\n",
       "  align-self: flex-end;\n",
       "  width: 50%;\n",
       "}\n",
       "\n",
       "#sk-container-id-3 div.sk-parallel-item:last-child::after {\n",
       "  align-self: flex-start;\n",
       "  width: 50%;\n",
       "}\n",
       "\n",
       "#sk-container-id-3 div.sk-parallel-item:only-child::after {\n",
       "  width: 0;\n",
       "}\n",
       "\n",
       "/* Serial-specific style estimator block */\n",
       "\n",
       "#sk-container-id-3 div.sk-serial {\n",
       "  display: flex;\n",
       "  flex-direction: column;\n",
       "  align-items: center;\n",
       "  background-color: var(--sklearn-color-background);\n",
       "  padding-right: 1em;\n",
       "  padding-left: 1em;\n",
       "}\n",
       "\n",
       "\n",
       "/* Toggleable style: style used for estimator/Pipeline/ColumnTransformer box that is\n",
       "clickable and can be expanded/collapsed.\n",
       "- Pipeline and ColumnTransformer use this feature and define the default style\n",
       "- Estimators will overwrite some part of the style using the `sk-estimator` class\n",
       "*/\n",
       "\n",
       "/* Pipeline and ColumnTransformer style (default) */\n",
       "\n",
       "#sk-container-id-3 div.sk-toggleable {\n",
       "  /* Default theme specific background. It is overwritten whether we have a\n",
       "  specific estimator or a Pipeline/ColumnTransformer */\n",
       "  background-color: var(--sklearn-color-background);\n",
       "}\n",
       "\n",
       "/* Toggleable label */\n",
       "#sk-container-id-3 label.sk-toggleable__label {\n",
       "  cursor: pointer;\n",
       "  display: block;\n",
       "  width: 100%;\n",
       "  margin-bottom: 0;\n",
       "  padding: 0.5em;\n",
       "  box-sizing: border-box;\n",
       "  text-align: center;\n",
       "}\n",
       "\n",
       "#sk-container-id-3 label.sk-toggleable__label-arrow:before {\n",
       "  /* Arrow on the left of the label */\n",
       "  content: \"▸\";\n",
       "  float: left;\n",
       "  margin-right: 0.25em;\n",
       "  color: var(--sklearn-color-icon);\n",
       "}\n",
       "\n",
       "#sk-container-id-3 label.sk-toggleable__label-arrow:hover:before {\n",
       "  color: var(--sklearn-color-text);\n",
       "}\n",
       "\n",
       "/* Toggleable content - dropdown */\n",
       "\n",
       "#sk-container-id-3 div.sk-toggleable__content {\n",
       "  max-height: 0;\n",
       "  max-width: 0;\n",
       "  overflow: hidden;\n",
       "  text-align: left;\n",
       "  /* unfitted */\n",
       "  background-color: var(--sklearn-color-unfitted-level-0);\n",
       "}\n",
       "\n",
       "#sk-container-id-3 div.sk-toggleable__content.fitted {\n",
       "  /* fitted */\n",
       "  background-color: var(--sklearn-color-fitted-level-0);\n",
       "}\n",
       "\n",
       "#sk-container-id-3 div.sk-toggleable__content pre {\n",
       "  margin: 0.2em;\n",
       "  border-radius: 0.25em;\n",
       "  color: var(--sklearn-color-text);\n",
       "  /* unfitted */\n",
       "  background-color: var(--sklearn-color-unfitted-level-0);\n",
       "}\n",
       "\n",
       "#sk-container-id-3 div.sk-toggleable__content.fitted pre {\n",
       "  /* unfitted */\n",
       "  background-color: var(--sklearn-color-fitted-level-0);\n",
       "}\n",
       "\n",
       "#sk-container-id-3 input.sk-toggleable__control:checked~div.sk-toggleable__content {\n",
       "  /* Expand drop-down */\n",
       "  max-height: 200px;\n",
       "  max-width: 100%;\n",
       "  overflow: auto;\n",
       "}\n",
       "\n",
       "#sk-container-id-3 input.sk-toggleable__control:checked~label.sk-toggleable__label-arrow:before {\n",
       "  content: \"▾\";\n",
       "}\n",
       "\n",
       "/* Pipeline/ColumnTransformer-specific style */\n",
       "\n",
       "#sk-container-id-3 div.sk-label input.sk-toggleable__control:checked~label.sk-toggleable__label {\n",
       "  color: var(--sklearn-color-text);\n",
       "  background-color: var(--sklearn-color-unfitted-level-2);\n",
       "}\n",
       "\n",
       "#sk-container-id-3 div.sk-label.fitted input.sk-toggleable__control:checked~label.sk-toggleable__label {\n",
       "  background-color: var(--sklearn-color-fitted-level-2);\n",
       "}\n",
       "\n",
       "/* Estimator-specific style */\n",
       "\n",
       "/* Colorize estimator box */\n",
       "#sk-container-id-3 div.sk-estimator input.sk-toggleable__control:checked~label.sk-toggleable__label {\n",
       "  /* unfitted */\n",
       "  background-color: var(--sklearn-color-unfitted-level-2);\n",
       "}\n",
       "\n",
       "#sk-container-id-3 div.sk-estimator.fitted input.sk-toggleable__control:checked~label.sk-toggleable__label {\n",
       "  /* fitted */\n",
       "  background-color: var(--sklearn-color-fitted-level-2);\n",
       "}\n",
       "\n",
       "#sk-container-id-3 div.sk-label label.sk-toggleable__label,\n",
       "#sk-container-id-3 div.sk-label label {\n",
       "  /* The background is the default theme color */\n",
       "  color: var(--sklearn-color-text-on-default-background);\n",
       "}\n",
       "\n",
       "/* On hover, darken the color of the background */\n",
       "#sk-container-id-3 div.sk-label:hover label.sk-toggleable__label {\n",
       "  color: var(--sklearn-color-text);\n",
       "  background-color: var(--sklearn-color-unfitted-level-2);\n",
       "}\n",
       "\n",
       "/* Label box, darken color on hover, fitted */\n",
       "#sk-container-id-3 div.sk-label.fitted:hover label.sk-toggleable__label.fitted {\n",
       "  color: var(--sklearn-color-text);\n",
       "  background-color: var(--sklearn-color-fitted-level-2);\n",
       "}\n",
       "\n",
       "/* Estimator label */\n",
       "\n",
       "#sk-container-id-3 div.sk-label label {\n",
       "  font-family: monospace;\n",
       "  font-weight: bold;\n",
       "  display: inline-block;\n",
       "  line-height: 1.2em;\n",
       "}\n",
       "\n",
       "#sk-container-id-3 div.sk-label-container {\n",
       "  text-align: center;\n",
       "}\n",
       "\n",
       "/* Estimator-specific */\n",
       "#sk-container-id-3 div.sk-estimator {\n",
       "  font-family: monospace;\n",
       "  border: 1px dotted var(--sklearn-color-border-box);\n",
       "  border-radius: 0.25em;\n",
       "  box-sizing: border-box;\n",
       "  margin-bottom: 0.5em;\n",
       "  /* unfitted */\n",
       "  background-color: var(--sklearn-color-unfitted-level-0);\n",
       "}\n",
       "\n",
       "#sk-container-id-3 div.sk-estimator.fitted {\n",
       "  /* fitted */\n",
       "  background-color: var(--sklearn-color-fitted-level-0);\n",
       "}\n",
       "\n",
       "/* on hover */\n",
       "#sk-container-id-3 div.sk-estimator:hover {\n",
       "  /* unfitted */\n",
       "  background-color: var(--sklearn-color-unfitted-level-2);\n",
       "}\n",
       "\n",
       "#sk-container-id-3 div.sk-estimator.fitted:hover {\n",
       "  /* fitted */\n",
       "  background-color: var(--sklearn-color-fitted-level-2);\n",
       "}\n",
       "\n",
       "/* Specification for estimator info (e.g. \"i\" and \"?\") */\n",
       "\n",
       "/* Common style for \"i\" and \"?\" */\n",
       "\n",
       ".sk-estimator-doc-link,\n",
       "a:link.sk-estimator-doc-link,\n",
       "a:visited.sk-estimator-doc-link {\n",
       "  float: right;\n",
       "  font-size: smaller;\n",
       "  line-height: 1em;\n",
       "  font-family: monospace;\n",
       "  background-color: var(--sklearn-color-background);\n",
       "  border-radius: 1em;\n",
       "  height: 1em;\n",
       "  width: 1em;\n",
       "  text-decoration: none !important;\n",
       "  margin-left: 1ex;\n",
       "  /* unfitted */\n",
       "  border: var(--sklearn-color-unfitted-level-1) 1pt solid;\n",
       "  color: var(--sklearn-color-unfitted-level-1);\n",
       "}\n",
       "\n",
       ".sk-estimator-doc-link.fitted,\n",
       "a:link.sk-estimator-doc-link.fitted,\n",
       "a:visited.sk-estimator-doc-link.fitted {\n",
       "  /* fitted */\n",
       "  border: var(--sklearn-color-fitted-level-1) 1pt solid;\n",
       "  color: var(--sklearn-color-fitted-level-1);\n",
       "}\n",
       "\n",
       "/* On hover */\n",
       "div.sk-estimator:hover .sk-estimator-doc-link:hover,\n",
       ".sk-estimator-doc-link:hover,\n",
       "div.sk-label-container:hover .sk-estimator-doc-link:hover,\n",
       ".sk-estimator-doc-link:hover {\n",
       "  /* unfitted */\n",
       "  background-color: var(--sklearn-color-unfitted-level-3);\n",
       "  color: var(--sklearn-color-background);\n",
       "  text-decoration: none;\n",
       "}\n",
       "\n",
       "div.sk-estimator.fitted:hover .sk-estimator-doc-link.fitted:hover,\n",
       ".sk-estimator-doc-link.fitted:hover,\n",
       "div.sk-label-container:hover .sk-estimator-doc-link.fitted:hover,\n",
       ".sk-estimator-doc-link.fitted:hover {\n",
       "  /* fitted */\n",
       "  background-color: var(--sklearn-color-fitted-level-3);\n",
       "  color: var(--sklearn-color-background);\n",
       "  text-decoration: none;\n",
       "}\n",
       "\n",
       "/* Span, style for the box shown on hovering the info icon */\n",
       ".sk-estimator-doc-link span {\n",
       "  display: none;\n",
       "  z-index: 9999;\n",
       "  position: relative;\n",
       "  font-weight: normal;\n",
       "  right: .2ex;\n",
       "  padding: .5ex;\n",
       "  margin: .5ex;\n",
       "  width: min-content;\n",
       "  min-width: 20ex;\n",
       "  max-width: 50ex;\n",
       "  color: var(--sklearn-color-text);\n",
       "  box-shadow: 2pt 2pt 4pt #999;\n",
       "  /* unfitted */\n",
       "  background: var(--sklearn-color-unfitted-level-0);\n",
       "  border: .5pt solid var(--sklearn-color-unfitted-level-3);\n",
       "}\n",
       "\n",
       ".sk-estimator-doc-link.fitted span {\n",
       "  /* fitted */\n",
       "  background: var(--sklearn-color-fitted-level-0);\n",
       "  border: var(--sklearn-color-fitted-level-3);\n",
       "}\n",
       "\n",
       ".sk-estimator-doc-link:hover span {\n",
       "  display: block;\n",
       "}\n",
       "\n",
       "/* \"?\"-specific style due to the `<a>` HTML tag */\n",
       "\n",
       "#sk-container-id-3 a.estimator_doc_link {\n",
       "  float: right;\n",
       "  font-size: 1rem;\n",
       "  line-height: 1em;\n",
       "  font-family: monospace;\n",
       "  background-color: var(--sklearn-color-background);\n",
       "  border-radius: 1rem;\n",
       "  height: 1rem;\n",
       "  width: 1rem;\n",
       "  text-decoration: none;\n",
       "  /* unfitted */\n",
       "  color: var(--sklearn-color-unfitted-level-1);\n",
       "  border: var(--sklearn-color-unfitted-level-1) 1pt solid;\n",
       "}\n",
       "\n",
       "#sk-container-id-3 a.estimator_doc_link.fitted {\n",
       "  /* fitted */\n",
       "  border: var(--sklearn-color-fitted-level-1) 1pt solid;\n",
       "  color: var(--sklearn-color-fitted-level-1);\n",
       "}\n",
       "\n",
       "/* On hover */\n",
       "#sk-container-id-3 a.estimator_doc_link:hover {\n",
       "  /* unfitted */\n",
       "  background-color: var(--sklearn-color-unfitted-level-3);\n",
       "  color: var(--sklearn-color-background);\n",
       "  text-decoration: none;\n",
       "}\n",
       "\n",
       "#sk-container-id-3 a.estimator_doc_link.fitted:hover {\n",
       "  /* fitted */\n",
       "  background-color: var(--sklearn-color-fitted-level-3);\n",
       "}\n",
       "</style><div id=\"sk-container-id-3\" class=\"sk-top-container\"><div class=\"sk-text-repr-fallback\"><pre>MultinomialNB()</pre><b>In a Jupyter environment, please rerun this cell to show the HTML representation or trust the notebook. <br />On GitHub, the HTML representation is unable to render, please try loading this page with nbviewer.org.</b></div><div class=\"sk-container\" hidden><div class=\"sk-item\"><div class=\"sk-estimator fitted sk-toggleable\"><input class=\"sk-toggleable__control sk-hidden--visually\" id=\"sk-estimator-id-3\" type=\"checkbox\" checked><label for=\"sk-estimator-id-3\" class=\"sk-toggleable__label fitted sk-toggleable__label-arrow fitted\">&nbsp;&nbsp;MultinomialNB<a class=\"sk-estimator-doc-link fitted\" rel=\"noreferrer\" target=\"_blank\" href=\"https://scikit-learn.org/1.4/modules/generated/sklearn.naive_bayes.MultinomialNB.html\">?<span>Documentation for MultinomialNB</span></a><span class=\"sk-estimator-doc-link fitted\">i<span>Fitted</span></span></label><div class=\"sk-toggleable__content fitted\"><pre>MultinomialNB()</pre></div> </div></div></div></div>"
      ],
      "text/plain": [
       "MultinomialNB()"
      ]
     },
     "execution_count": 239,
     "metadata": {},
     "output_type": "execute_result"
    }
   ],
   "source": [
    "nb_model.fit(X_train,y_train)"
   ]
  },
  {
   "cell_type": "markdown",
   "id": "87de47b9-dcde-468f-905c-726d725bdd23",
   "metadata": {},
   "source": [
    "# Testing the model"
   ]
  },
  {
   "cell_type": "code",
   "execution_count": 241,
   "id": "c3dce235-b82a-462e-b476-c574db0a9019",
   "metadata": {},
   "outputs": [],
   "source": [
    "y_pred = nb_model.predict(X_test)"
   ]
  },
  {
   "cell_type": "code",
   "execution_count": 242,
   "id": "c3c70c36-12d5-4a24-b49b-5b9a2e1b7840",
   "metadata": {},
   "outputs": [],
   "source": [
    "df_1 = pd.DataFrame({\n",
    "    \"Real Value\": y_test,   # or y_test.squeeze()\n",
    "    \"Predicted Value\": y_pred\n",
    "})"
   ]
  },
  {
   "cell_type": "code",
   "execution_count": 243,
   "id": "8f9a9e36-d0e7-4a7d-89f5-871e525b90d1",
   "metadata": {},
   "outputs": [
    {
     "data": {
      "text/html": [
       "<div>\n",
       "<style scoped>\n",
       "    .dataframe tbody tr th:only-of-type {\n",
       "        vertical-align: middle;\n",
       "    }\n",
       "\n",
       "    .dataframe tbody tr th {\n",
       "        vertical-align: top;\n",
       "    }\n",
       "\n",
       "    .dataframe thead th {\n",
       "        text-align: right;\n",
       "    }\n",
       "</style>\n",
       "<table border=\"1\" class=\"dataframe\">\n",
       "  <thead>\n",
       "    <tr style=\"text-align: right;\">\n",
       "      <th></th>\n",
       "      <th>Real Value</th>\n",
       "      <th>Predicted Value</th>\n",
       "    </tr>\n",
       "  </thead>\n",
       "  <tbody>\n",
       "    <tr>\n",
       "      <th>0</th>\n",
       "      <td>1</td>\n",
       "      <td>1</td>\n",
       "    </tr>\n",
       "    <tr>\n",
       "      <th>1</th>\n",
       "      <td>1</td>\n",
       "      <td>1</td>\n",
       "    </tr>\n",
       "    <tr>\n",
       "      <th>62</th>\n",
       "      <td>0</td>\n",
       "      <td>0</td>\n",
       "    </tr>\n",
       "    <tr>\n",
       "      <th>76</th>\n",
       "      <td>0</td>\n",
       "      <td>0</td>\n",
       "    </tr>\n",
       "    <tr>\n",
       "      <th>37</th>\n",
       "      <td>1</td>\n",
       "      <td>1</td>\n",
       "    </tr>\n",
       "  </tbody>\n",
       "</table>\n",
       "</div>"
      ],
      "text/plain": [
       "    Real Value  Predicted Value\n",
       "0            1                1\n",
       "1            1                1\n",
       "62           0                0\n",
       "76           0                0\n",
       "37           1                1"
      ]
     },
     "execution_count": 243,
     "metadata": {},
     "output_type": "execute_result"
    }
   ],
   "source": [
    "df_1.head()"
   ]
  },
  {
   "cell_type": "markdown",
   "id": "c9eeaf6d-3f7e-4b7d-b912-2afcd81a52d0",
   "metadata": {},
   "source": [
    "# Perfomance Metrics"
   ]
  },
  {
   "cell_type": "code",
   "execution_count": 245,
   "id": "b0eadffa-fc12-4fb2-a1c6-b3744ddfc1ca",
   "metadata": {},
   "outputs": [],
   "source": [
    "from sklearn.metrics import confusion_matrix, f1_score, classification_report, accuracy_score, roc_auc_score, roc_curve, recall_score"
   ]
  },
  {
   "cell_type": "code",
   "execution_count": 246,
   "id": "f4bb21c8-1520-47f0-848f-1caa1be3267a",
   "metadata": {},
   "outputs": [],
   "source": [
    "cm = confusion_matrix(y_test,y_pred)"
   ]
  },
  {
   "cell_type": "code",
   "execution_count": 247,
   "id": "18e5229c-faa0-4e10-b2fb-cb5d9e0aaaeb",
   "metadata": {},
   "outputs": [
    {
     "data": {
      "image/png": "[encoded data removed]",
      "text/plain": [
       "<Figure size 640x480 with 2 Axes>"
      ]
     },
     "metadata": {},
     "output_type": "display_data"
    }
   ],
   "source": [
    "import seaborn as sns\n",
    "import matplotlib.pyplot as plt\n",
    "sns.heatmap(cm, \n",
    "            annot=True,\n",
    "            fmt='g', \n",
    "            xticklabels=['Not-Product','Product'],\n",
    "            yticklabels=['Not-Product','Product'])\n",
    "plt.ylabel('Actual', fontsize=13)\n",
    "plt.title('Confusion Matrix', fontsize=17, pad=20)\n",
    "plt.gca().xaxis.set_label_position('top') \n",
    "plt.xlabel('Prediction', fontsize=13)\n",
    "plt.gca().xaxis.tick_top()\n",
    "\n",
    "plt.gca().figure.subplots_adjust(bottom=0.2)\n",
    "plt.show()"
   ]
  },
  {
   "cell_type": "code",
   "execution_count": 248,
   "id": "d90b73ba-423e-4fbe-88a0-3b355f7b9b6e",
   "metadata": {},
   "outputs": [
    {
     "name": "stdout",
     "output_type": "stream",
     "text": [
      "Classification Report:                precision    recall  f1-score   support\n",
      "\n",
      "           0       0.91      1.00      0.95        10\n",
      "           1       1.00      0.90      0.95        10\n",
      "\n",
      "    accuracy                           0.95        20\n",
      "   macro avg       0.95      0.95      0.95        20\n",
      "weighted avg       0.95      0.95      0.95        20\n",
      "\n"
     ]
    }
   ],
   "source": [
    "print(\"Classification Report: \", classification_report(y_test,y_pred))"
   ]
  },
  {
   "cell_type": "code",
   "execution_count": 249,
   "id": "bacbbf99-b556-48a4-9d91-55c4949c39e3",
   "metadata": {},
   "outputs": [
    {
     "name": "stdout",
     "output_type": "stream",
     "text": [
      "Accuracy of model:  0.95\n"
     ]
    }
   ],
   "source": [
    "accuracy = accuracy_score(y_test.values,y_pred)\n",
    "print(\"Accuracy of model: \",accuracy)"
   ]
  },
  {
   "cell_type": "code",
   "execution_count": 250,
   "id": "61a6b151-436b-4173-89ad-6db2f23957b3",
   "metadata": {},
   "outputs": [
    {
     "name": "stdout",
     "output_type": "stream",
     "text": [
      "AUC Score:- 0.95 \n"
     ]
    }
   ],
   "source": [
    "print(f\"AUC Score:- {roc_auc_score(y_test,y_pred)} \")"
   ]
  },
  {
   "cell_type": "code",
   "execution_count": 251,
   "id": "9ebaa419-52e2-4415-8f5f-a9c83fd94d6b",
   "metadata": {},
   "outputs": [],
   "source": [
    "fpr, tpr, thresholds = roc_curve(y_test, y_pred)\n",
    "auc_score = roc_auc_score(y_test,y_pred)"
   ]
  },
  {
   "cell_type": "code",
   "execution_count": 252,
   "id": "a367f643-75af-406d-9a91-5872ab99f8a7",
   "metadata": {},
   "outputs": [
    {
     "data": {
      "image/png": "[encoded data removed]",
      "text/plain": [
       "<Figure size 800x600 with 1 Axes>"
      ]
     },
     "metadata": {},
     "output_type": "display_data"
    }
   ],
   "source": [
    "#  Plot ROC curve\n",
    "plt.figure(figsize=(8,6))\n",
    "plt.plot(fpr, tpr, label=f'ROC Curve (AUC = {auc_score:.2f})')\n",
    "plt.plot([0, 1], [0, 1], 'k--', label='Random Classifier')  # Diagonal line\n",
    "plt.xlabel('False Positive Rate (FPR)')\n",
    "plt.ylabel('True Positive Rate (TPR)')\n",
    "plt.title('Receiver Operating Characteristic (ROC) Curve')\n",
    "plt.legend(loc='lower right')\n",
    "plt.show()"
   ]
  },
  {
   "cell_type": "markdown",
   "id": "c2e76378-8716-40e1-a623-68c0ea9bf904",
   "metadata": {},
   "source": [
    "# Save the model and TF-IDF Vectorizer object into pickle file"
   ]
  },
  {
   "cell_type": "code",
   "execution_count": 254,
   "id": "643e4349-47da-4c8b-9cfa-c76726ef9501",
   "metadata": {},
   "outputs": [],
   "source": [
    "import pickle as pk"
   ]
  },
  {
   "cell_type": "code",
   "execution_count": 255,
   "id": "ba74870e-9efd-4b05-90b2-cecc2fa08166",
   "metadata": {},
   "outputs": [],
   "source": [
    "pk.dump(nb_model,open(\"nb_model.pkl\",'wb'))"
   ]
  },
  {
   "cell_type": "code",
   "execution_count": 256,
   "id": "ca060537-b256-4115-a1c8-5c1bd3c8a947",
   "metadata": {},
   "outputs": [],
   "source": [
    "pk.dump(vector,open(\"vectorizer.pkl\",'wb'))"
   ]
  }
 ],
 "metadata": {
  "kernelspec": {
   "display_name": "Python 3 (ipykernel)",
   "language": "python",
   "name": "python3"
  },
  "language_info": {
   "codemirror_mode": {
    "name": "ipython",
    "version": 3
   },
   "file_extension": ".py",
   "mimetype": "text/x-python",
   "name": "python",
   "nbconvert_exporter": "python",
   "pygments_lexer": "ipython3",
   "version": "3.12.4"
  }
 },
 "nbformat": 4,
 "nbformat_minor": 5
}
