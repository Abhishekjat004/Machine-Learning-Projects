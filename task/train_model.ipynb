{
 "cells": [
  {
   "cell_type": "code",
   "execution_count": 8,
   "id": "e28e9ad2-194a-411e-b23f-1cd63e0d2998",
   "metadata": {},
   "outputs": [
    {
     "name": "stdout",
     "output_type": "stream",
     "text": [
      "1.4.2\n"
     ]
    }
   ],
   "source": [
    "import sklearn\n",
    "print(sklearn.__version__)"
   ]
  },
  {
   "cell_type": "code",
   "execution_count": 9,
   "id": "66c10733-68f0-4821-b3c1-8ccbbd3e1b55",
   "metadata": {},
   "outputs": [],
   "source": [
    "data = [(\"https://www.amazon.in/dp/B09G99CW2T\", \"product\"),\n",
    "    (\"https://www.amazon.in/Apple-iPhone-13-128GB-Blue/dp/B09G99CW2T\", \"product\"),\n",
    "    (\"https://www.amazon.in/Noise-Launched-Bluetooth-Calling-Tracking/dp/B0BJ72WZQ7?th=1\", \"product\"),\n",
    "    (\"https://www.amazon.in/dp/B0C3XGJWQ7\", \"product\"),\n",
    "    (\"https://www.amazon.in/dp/B07WFPMKD7\", \"product\"),\n",
    "    (\"https://www.amazon.in/dp/B09SH994JW\", \"product\"),\n",
    "    (\"https://www.amazon.in/dp/B08444S68M\", \"product\"),\n",
    "    (\"https://www.amazon.in/dp/B07DJHXTLJ\", \"product\"),\n",
    "    (\"https://www.amazon.in/dp/B07VJYZF59\", \"product\"),\n",
    "    (\"https://www.amazon.in/dp/B08444S5JD\", \"product\"),\n",
    "    (\"https://www.flipkart.com/apple-iphone-13-blue-128-gb/p/itm6e3b5b5a7cfd9\", \"product\"),\n",
    "    (\"https://www.flipkart.com/noise-crew-1-38-round-display-bluetooth-calling-metallic-finish-ip68-rating-smartwatch/p/itm9eb2931827255\", \"product\"),\n",
    "    (\"https://www.flipkart.com/redmi-note-12-pro-5g-icy-blue-128-gb/p/itm76d1e3ec4dd33\", \"product\"),\n",
    "    (\"https://www.flipkart.com/samsung-galaxy-m14-5g-smoky-teal-128-gb/p/itm1d1b761621bba\", \"product\"),\n",
    "    (\"https://www.flipkart.com/dell-inspiron-core-i5-11th-gen/p/itm2ba7566b9c6d7\", \"product\"),\n",
    "    (\"https://www.flipkart.com/acer-aspire-7-ryzen-5-hexa-core/p/itm4b6ed1a6b71d1\", \"product\"),\n",
    "    (\"https://www.flipkart.com/hp-pavilion-intel-core-i5-12th-gen/p/itm6f3311f2a3c84\", \"product\"),\n",
    "    (\"https://www.flipkart.com/asus-vivobook-15-core-i3-12th-gen/p/itmbb3d3c324a0e6\", \"product\"),\n",
    "    (\"https://www.flipkart.com/boat-airdopes-121v2-bluetooth-headset/p/itmbe0d46a4f7a6e\", \"product\"),\n",
    "    (\"https://www.flipkart.com/sony-wh-1000xm4-bluetooth-headset/p/itm0cfaa7bbdb3d6\", \"product\"),\n",
    "    (\"https://www.flipkart.com/jbl-c100si-wired-headset/p/itm7c94f033b99c3\", \"product\"),\n",
    "    (\"https://www.flipkart.com/realme-buds-wireless-2-neo-bluetooth-headset/p/itm14bb7ff4d12b3\", \"product\"),\n",
    "    (\"https://www.flipkart.com/mi-dual-driver-wired-headset/p/itm1e2190fcbf8db\", \"product\"),\n",
    "    (\"https://www.amazon.in/dp/B08N5WRWNW\", \"product\"),\n",
    "    (\"https://www.amazon.in/dp/B08N5VSQNG\", \"product\"),\n",
    "    (\"https://www.amazon.in/dp/B097R87DF3\", \"product\"),\n",
    "    (\"https://www.amazon.in/dp/B09GFPVD5J\", \"product\"),\n",
    "    (\"https://www.amazon.in/dp/B08P9KJ1N7\", \"product\"),\n",
    "    (\"https://www.amazon.in/dp/B08P9KW3CD\", \"product\"),\n",
    "    (\"https://www.amazon.in/dp/B07WSY6VGT\", \"product\"),\n",
    "    (\"https://www.amazon.in/dp/B07WSYGVGZ\", \"product\"),\n",
    "    (\"https://www.amazon.in/dp/B07Y5Y3M89\", \"product\"),\n",
    "    (\"https://www.amazon.in/dp/B08H7Z21KF\", \"product\"),\n",
    "    (\"https://www.amazon.in/dp/B09WRM9SKD\", \"product\"),\n",
    "    (\"https://www.amazon.in/dp/B0B3R7FZHC\", \"product\"),\n",
    "    (\"https://www.amazon.in/dp/B097R8FYW4\", \"product\"),\n",
    "    (\"https://www.amazon.in/dp/B08N5W4NNB\", \"product\"),\n",
    "    (\"https://www.amazon.in/dp/B07DJHXTLJ\", \"product\"),\n",
    "    (\"https://www.google.com/shopping/product/16848581607082948437\", \"product\"),\n",
    "    (\"https://www.google.com/shopping/product/9432095483203456234\", \"product\"),\n",
    "    (\"https://www.google.com/shopping/product/13987502839485738457\", \"product\"),\n",
    "    (\"https://www.google.com/shopping/product/98435798457384957834\", \"product\"),\n",
    "    (\"https://www.google.com/shopping/product/84579028475902845739\", \"product\"),\n",
    "    (\"https://www.google.com/shopping/product/92845793485739485723\", \"product\"),\n",
    "    (\"https://www.google.com/shopping/product/48975938475029485702\", \"product\"),\n",
    "    (\"https://www.google.com/shopping/product/53984579384579384579\", \"product\"),\n",
    "    (\"https://www.google.com/shopping/product/53984579384579384579\", \"product\"),\n",
    "    (\"https://www.google.com/shopping/product/93485792384792384792\", \"product\"),\n",
    "    (\"https://www.google.com/shopping/product/32847923487923487234\", \"product\"),\n",
    "    (\"https://www.amazon.in/s?k=noise+crew+smartwatch+1.38\", \"not_product\"),\n",
    "    (\"https://www.flipkart.com/search?q=noise+watch\", \"not_product\"),\n",
    "    (\"https://www.amazon.in/gp/bestsellers/electronics/976419031\", \"not_product\"),\n",
    "    (\"https://www.flipkart.com/wearable-smart-devices/smart-watches/noise~brand/pr?sid=ajy%2Cbuh\", \"not_product\"),\n",
    "    (\"https://www.flipkart.com/mens-watches/pr?sid=r18,f13\", \"not_product\"),\n",
    "    (\"https://www.amazon.in/gp/goldbox\", \"not_product\"),\n",
    "    (\"https://www.flipkart.com/offers-store\", \"not_product\"),\n",
    "    (\"https://www.amazon.in/b/?node=976419031\", \"not_product\"),\n",
    "    (\"https://www.flipkart.com/electronics-store\", \"not_product\"),\n",
    "    (\"https://www.amazon.in/s?k=smartphones\", \"not_product\"),\n",
    "    (\"https://www.google.com/search?q=iphone+13\", \"not_product\"),\n",
    "    (\"https://www.google.com/search?q=best+laptop+under+60000\", \"not_product\"),\n",
    "    (\"https://www.google.com/shopping\", \"not_product\"),\n",
    "    (\"https://www.google.com/search?q=buy+noise+smartwatch\", \"not_product\"),\n",
    "    (\"https://www.google.com/shopping/search?q=noise+watch\", \"not_product\"),\n",
    "    (\"https://www.flipkart.com/smart-watches/pr?sid=ajy,buh\", \"not_product\"),\n",
    "    (\"https://www.flipkart.com/laptops-store\", \"not_product\"),\n",
    "    (\"https://www.amazon.in/smart-watches/b?ie=UTF8&node=5605728031\", \"not_product\"),\n",
    "    (\"https://www.amazon.in/gp/new-releases\", \"not_product\"),\n",
    "    (\"https://www.amazon.in/Deals/sale\", \"not_product\"),\n",
    "    (\"https://www.amazon.in/s?k=laptop+under+50000\", \"not_product\"),\n",
    "    (\"https://www.flipkart.com/search?q=laptop+under+50000\", \"not_product\"),\n",
    "    (\"https://www.flipkart.com/sell-online\", \"not_product\"),\n",
    "    (\"https://www.flipkart.com/helpcentre\", \"not_product\"),\n",
    "    (\"https://www.flipkart.com/about-us\", \"not_product\"),\n",
    "    (\"https://www.amazon.in/gp/help/customer/display.html\", \"not_product\"),\n",
    "    (\"https://www.amazon.in/gp/cart/view.html\", \"not_product\"),\n",
    "    (\"https://www.amazon.in/gp/browse.html?node=1389401031\", \"not_product\"),\n",
    "    (\"https://www.amazon.in/s?k=headphones\", \"not_product\"),\n",
    "    (\"https://www.flipkart.com/headphones-store\", \"not_product\"),\n",
    "    (\"https://www.flipkart.com/smartphones-store\", \"not_product\"),\n",
    "    (\"https://www.amazon.in/b?node=1389432031\", \"not_product\"),\n",
    "    (\"https://www.amazon.in/s?k=gaming+laptop\", \"not_product\"),\n",
    "    (\"https://www.flipkart.com/search?q=wireless+headphones\", \"not_product\"),\n",
    "    (\"https://www.flipkart.com/offers\", \"not_product\"),\n",
    "    (\"https://www.flipkart.com/dmart\", \"not_product\"),\n",
    "    (\"https://www.amazon.in/dmart-store\", \"not_product\"),\n",
    "    (\"https://www.amazon.in/s?k=fitness+band\", \"not_product\"),\n",
    "    (\"https://www.flipkart.com/search?q=fitness+band\", \"not_product\"),\n",
    "    (\"https://www.google.com/search?q=macbook+air+vs+pro\", \"not_product\"),\n",
    "    (\"https://www.google.com/search?q=flipkart+noise+watch+offer\", \"not_product\"),\n",
    "    (\"https://www.google.com/search?q=top+phones+2025\", \"not_product\"),\n",
    "    (\"https://www.google.com/shopping/search?q=budget+phones+2025\", \"not_product\"),\n",
    "    (\"https://www.google.com/shopping/search?q=fitness+trackers\", \"not_product\"),\n",
    "    (\"https://www.google.com/shopping/search?q=cheap+earbuds\", \"not_product\"),\n",
    "    (\"https://www.google.com/shopping/search?q=best+bluetooth+speakers\", \"not_product\"),\n",
    "    (\"https://www.google.com/shopping/search?q=compare+noise+vs+boat\", \"not_product\"),\n",
    "    (\"https://www.google.com/shopping/search?q=kids+smart+watch\", \"not_product\"),\n",
    "    (\"https://www.google.com/shopping/search?q=best+fitness+smartwatch\", \"not_product\"),\n",
    "    (\"https://www.bunzlchs.com/Hygiene-Paper-and-Wipes/Toilet-Tissue/Toilet-Tissue-Dispensers-and-Holders~c~BCHSAPA\", \"not_product\"),\n",
    "    (\"https://www.myntra.com/smart-watches/noise/noise-crew-with-bt-calling--metallic-finish-ip68-rating-138-round-display-smartwatch/23529198/buy\", \"product\"),\n",
    "    (\"https://www.myntra.com/smart-watches/noise/noise-crew-with-bt-calling--metallic-finish-ip68-rating-138-round-display-smartwatch/23529198/buy\", \"product\"),\n",
    "    (\"https://www.ahpmedicals.com/tork-mini-jumbo-toilet-roll-dispenser-white-pack-of-1.html\", \"product\"),\n",
    "    (\"https://janitorialessentials.com/paper-products/jumbo-toilet-tissue\", \"not_product\"),\n",
    "]"
   ]
  },
  {
   "cell_type": "code",
   "execution_count": 10,
   "id": "ac995a43-2707-443e-b807-857a56aea9c1",
   "metadata": {},
   "outputs": [],
   "source": [
    "# I store the data in urls.csv file\n",
    "import csv\n",
    "with open('urls.csv', mode='w', newline='', encoding='utf-8') as file:\n",
    "    writer = csv.writer(file)\n",
    "    writer.writerow(['ind_feature', 'dep_feature'])  # header row\n",
    "    writer.writerows(data)"
   ]
  },
  {
   "cell_type": "code",
   "execution_count": 11,
   "id": "a34cfe52-4a8f-466d-8246-e1105004d74f",
   "metadata": {},
   "outputs": [
    {
     "data": {
      "text/plain": [
       "'https://www.amazon.in/dp/B09G99CW2T'"
      ]
     },
     "execution_count": 11,
     "metadata": {},
     "output_type": "execute_result"
    }
   ],
   "source": [
    "data[0][0]"
   ]
  },
  {
   "cell_type": "markdown",
   "id": "0581a73d-80fc-4a83-88cb-5633bc20b1af",
   "metadata": {},
   "source": [
    "# Create a DataFrame"
   ]
  },
  {
   "cell_type": "code",
   "execution_count": 13,
   "id": "bf5a179c-811e-4029-9d9c-c2cd34c0820d",
   "metadata": {},
   "outputs": [],
   "source": [
    "import pandas as pd\n",
    "import numpy as np\n",
    "\n",
    "# Create the DataFrame directly\n",
    "df = pd.DataFrame(data, columns=['ind_feature', 'dep_feature'])"
   ]
  },
  {
   "cell_type": "code",
   "execution_count": 14,
   "id": "c8ebfb9b-41e2-4f11-9293-9b5eac1cba92",
   "metadata": {},
   "outputs": [
    {
     "name": "stdout",
     "output_type": "stream",
     "text": [
      "<class 'pandas.core.frame.DataFrame'>\n",
      "RangeIndex: 103 entries, 0 to 102\n",
      "Data columns (total 2 columns):\n",
      " #   Column       Non-Null Count  Dtype \n",
      "---  ------       --------------  ----- \n",
      " 0   ind_feature  103 non-null    object\n",
      " 1   dep_feature  103 non-null    object\n",
      "dtypes: object(2)\n",
      "memory usage: 16.2 KB\n"
     ]
    }
   ],
   "source": [
    "df.info(memory_usage='deep')"
   ]
  },
  {
   "cell_type": "code",
   "execution_count": 15,
   "id": "cf4c1ab5-b93b-4ffe-9f55-a679ffe104a6",
   "metadata": {},
   "outputs": [
    {
     "data": {
      "text/html": [
       "<div>\n",
       "<style scoped>\n",
       "    .dataframe tbody tr th:only-of-type {\n",
       "        vertical-align: middle;\n",
       "    }\n",
       "\n",
       "    .dataframe tbody tr th {\n",
       "        vertical-align: top;\n",
       "    }\n",
       "\n",
       "    .dataframe thead th {\n",
       "        text-align: right;\n",
       "    }\n",
       "</style>\n",
       "<table border=\"1\" class=\"dataframe\">\n",
       "  <thead>\n",
       "    <tr style=\"text-align: right;\">\n",
       "      <th></th>\n",
       "      <th>ind_feature</th>\n",
       "      <th>dep_feature</th>\n",
       "    </tr>\n",
       "  </thead>\n",
       "  <tbody>\n",
       "    <tr>\n",
       "      <th>0</th>\n",
       "      <td>https://www.amazon.in/dp/B09G99CW2T</td>\n",
       "      <td>product</td>\n",
       "    </tr>\n",
       "    <tr>\n",
       "      <th>1</th>\n",
       "      <td>https://www.amazon.in/Apple-iPhone-13-128GB-Bl...</td>\n",
       "      <td>product</td>\n",
       "    </tr>\n",
       "    <tr>\n",
       "      <th>2</th>\n",
       "      <td>https://www.amazon.in/Noise-Launched-Bluetooth...</td>\n",
       "      <td>product</td>\n",
       "    </tr>\n",
       "    <tr>\n",
       "      <th>3</th>\n",
       "      <td>https://www.amazon.in/dp/B0C3XGJWQ7</td>\n",
       "      <td>product</td>\n",
       "    </tr>\n",
       "    <tr>\n",
       "      <th>4</th>\n",
       "      <td>https://www.amazon.in/dp/B07WFPMKD7</td>\n",
       "      <td>product</td>\n",
       "    </tr>\n",
       "  </tbody>\n",
       "</table>\n",
       "</div>"
      ],
      "text/plain": [
       "                                         ind_feature dep_feature\n",
       "0                https://www.amazon.in/dp/B09G99CW2T     product\n",
       "1  https://www.amazon.in/Apple-iPhone-13-128GB-Bl...     product\n",
       "2  https://www.amazon.in/Noise-Launched-Bluetooth...     product\n",
       "3                https://www.amazon.in/dp/B0C3XGJWQ7     product\n",
       "4                https://www.amazon.in/dp/B07WFPMKD7     product"
      ]
     },
     "execution_count": 15,
     "metadata": {},
     "output_type": "execute_result"
    }
   ],
   "source": [
    "df.head()"
   ]
  },
  {
   "cell_type": "markdown",
   "id": "7b652e93-ff6e-4f73-b9f9-51e89a288fbc",
   "metadata": {},
   "source": [
    "# Preprocess the data"
   ]
  },
  {
   "cell_type": "code",
   "execution_count": 17,
   "id": "7dcb9554-d3d4-4894-914d-1a02bb5bc1a3",
   "metadata": {},
   "outputs": [],
   "source": [
    "df['ind_feature'] = df['ind_feature'].str.strip('https://www.')"
   ]
  },
  {
   "cell_type": "code",
   "execution_count": 18,
   "id": "53a75296-d1ba-4829-b3ad-309de6267e40",
   "metadata": {},
   "outputs": [],
   "source": [
    "df['ind_feature'] = df['ind_feature'].str.replace(\".in\", \"\")"
   ]
  },
  {
   "cell_type": "code",
   "execution_count": 19,
   "id": "57d495c8-f42a-4f0d-b036-eef99ac877b7",
   "metadata": {},
   "outputs": [],
   "source": [
    "df['ind_feature'] = df['ind_feature'].str.replace(\".com\", \"\")"
   ]
  },
  {
   "cell_type": "code",
   "execution_count": 20,
   "id": "51536b35-4f59-4318-b5ba-82f8628ede9d",
   "metadata": {},
   "outputs": [],
   "source": [
    "df['ind_feature'] = df['ind_feature'].str.replace(\"/\", \" \")"
   ]
  },
  {
   "cell_type": "code",
   "execution_count": 21,
   "id": "1164c90c-6450-4aec-a524-985b88f8d00f",
   "metadata": {},
   "outputs": [],
   "source": [
    "df['ind_feature'] = df['ind_feature'].str.replace(\"-\", \" \")"
   ]
  },
  {
   "cell_type": "code",
   "execution_count": 22,
   "id": "7f4811a7-1ba4-4236-b512-a95f0cbd8408",
   "metadata": {},
   "outputs": [],
   "source": [
    "df['ind_feature'] = (\n",
    "    df['ind_feature']  \n",
    "    .str.strip()                              # remove leading/trailing spaces\n",
    "    .str.lower()                              # make lowercase\n",
    "    .str.replace(r'\\s+', ' ', regex=True)     # normalize spaces\n",
    ")"
   ]
  },
  {
   "cell_type": "code",
   "execution_count": 23,
   "id": "7224e6ab-8bbd-4475-9c25-ff15bd3f18b7",
   "metadata": {},
   "outputs": [],
   "source": [
    "df['dep_feature'] = df['dep_feature'].str.lower()   "
   ]
  },
  {
   "cell_type": "code",
   "execution_count": 24,
   "id": "96dbcb94-dc08-4cad-a3fa-c85e8071f05e",
   "metadata": {},
   "outputs": [],
   "source": [
    "df['dep_feature'] = df['dep_feature'].apply(lambda x: 1 if x == \"product\"  else 0 )"
   ]
  },
  {
   "cell_type": "code",
   "execution_count": 25,
   "id": "4bdbc653-46ff-45bc-9fe6-3459a954f9e9",
   "metadata": {},
   "outputs": [
    {
     "data": {
      "text/plain": [
       "3"
      ]
     },
     "execution_count": 25,
     "metadata": {},
     "output_type": "execute_result"
    }
   ],
   "source": [
    "df['ind_feature'].duplicated().sum()"
   ]
  },
  {
   "cell_type": "code",
   "execution_count": 26,
   "id": "d14f1013-a4fa-4918-b761-af246b4c7b96",
   "metadata": {},
   "outputs": [],
   "source": [
    "df.drop_duplicates(subset='ind_feature',keep='last',ignore_index=True,inplace=True)"
   ]
  },
  {
   "cell_type": "code",
   "execution_count": 27,
   "id": "22a7fe92-570c-4e0d-887c-652b1a9e8b03",
   "metadata": {},
   "outputs": [
    {
     "data": {
      "text/plain": [
       "ind_feature    0\n",
       "dep_feature    0\n",
       "dtype: int64"
      ]
     },
     "execution_count": 27,
     "metadata": {},
     "output_type": "execute_result"
    }
   ],
   "source": [
    "df.isna().sum()"
   ]
  },
  {
   "cell_type": "code",
   "execution_count": 28,
   "id": "f4b11142-6759-4960-af05-1665d2ef4372",
   "metadata": {},
   "outputs": [],
   "source": [
    "df.dropna(inplace=True)"
   ]
  },
  {
   "cell_type": "code",
   "execution_count": 29,
   "id": "0ae48074-feb0-4473-9c7c-6b83204ac724",
   "metadata": {},
   "outputs": [
    {
     "data": {
      "text/html": [
       "<div>\n",
       "<style scoped>\n",
       "    .dataframe tbody tr th:only-of-type {\n",
       "        vertical-align: middle;\n",
       "    }\n",
       "\n",
       "    .dataframe tbody tr th {\n",
       "        vertical-align: top;\n",
       "    }\n",
       "\n",
       "    .dataframe thead th {\n",
       "        text-align: right;\n",
       "    }\n",
       "</style>\n",
       "<table border=\"1\" class=\"dataframe\">\n",
       "  <thead>\n",
       "    <tr style=\"text-align: right;\">\n",
       "      <th></th>\n",
       "      <th>ind_feature</th>\n",
       "      <th>dep_feature</th>\n",
       "    </tr>\n",
       "  </thead>\n",
       "  <tbody>\n",
       "    <tr>\n",
       "      <th>0</th>\n",
       "      <td>amazon dp b09g99cw2t</td>\n",
       "      <td>1</td>\n",
       "    </tr>\n",
       "    <tr>\n",
       "      <th>1</th>\n",
       "      <td>amazon apple iphone 13 128gb blue dp b09g99cw2t</td>\n",
       "      <td>1</td>\n",
       "    </tr>\n",
       "    <tr>\n",
       "      <th>2</th>\n",
       "      <td>amazon noise launched bluetooth calling tracki...</td>\n",
       "      <td>1</td>\n",
       "    </tr>\n",
       "    <tr>\n",
       "      <th>3</th>\n",
       "      <td>amazon dp b0c3xgjwq7</td>\n",
       "      <td>1</td>\n",
       "    </tr>\n",
       "    <tr>\n",
       "      <th>4</th>\n",
       "      <td>amazon dp b07wfpmkd7</td>\n",
       "      <td>1</td>\n",
       "    </tr>\n",
       "  </tbody>\n",
       "</table>\n",
       "</div>"
      ],
      "text/plain": [
       "                                         ind_feature  dep_feature\n",
       "0                               amazon dp b09g99cw2t            1\n",
       "1    amazon apple iphone 13 128gb blue dp b09g99cw2t            1\n",
       "2  amazon noise launched bluetooth calling tracki...            1\n",
       "3                               amazon dp b0c3xgjwq7            1\n",
       "4                               amazon dp b07wfpmkd7            1"
      ]
     },
     "execution_count": 29,
     "metadata": {},
     "output_type": "execute_result"
    }
   ],
   "source": [
    "df.head()"
   ]
  },
  {
   "cell_type": "markdown",
   "id": "eb564267-016c-4ef2-8fbd-909923e4bf29",
   "metadata": {},
   "source": [
    "# USING TF-IDF VECTOR"
   ]
  },
  {
   "cell_type": "code",
   "execution_count": 31,
   "id": "20da799a-d4ce-4711-89f2-c145a0ebc24b",
   "metadata": {},
   "outputs": [],
   "source": [
    "from sklearn.feature_extraction.text import TfidfVectorizer"
   ]
  },
  {
   "cell_type": "code",
   "execution_count": 32,
   "id": "5dbc794e-4cc9-4d11-8e37-ab22abe621e9",
   "metadata": {},
   "outputs": [],
   "source": [
    "vector = TfidfVectorizer(lowercase=True, preprocessor=None, tokenizer=None, analyzer='word', stop_words='english',  norm='l2', use_idf=True, smooth_idf=True)"
   ]
  },
  {
   "cell_type": "code",
   "execution_count": 33,
   "id": "cec9e5be-e757-403f-bf09-ce0ef4bfeac6",
   "metadata": {},
   "outputs": [
    {
     "data": {
      "text/plain": [
       "{'analyzer': 'word',\n",
       " 'binary': False,\n",
       " 'decode_error': 'strict',\n",
       " 'dtype': numpy.float64,\n",
       " 'encoding': 'utf-8',\n",
       " 'input': 'content',\n",
       " 'lowercase': True,\n",
       " 'max_df': 1.0,\n",
       " 'max_features': None,\n",
       " 'min_df': 1,\n",
       " 'ngram_range': (1, 1),\n",
       " 'norm': 'l2',\n",
       " 'preprocessor': None,\n",
       " 'smooth_idf': True,\n",
       " 'stop_words': 'english',\n",
       " 'strip_accents': None,\n",
       " 'sublinear_tf': False,\n",
       " 'token_pattern': '(?u)\\\\b\\\\w\\\\w+\\\\b',\n",
       " 'tokenizer': None,\n",
       " 'use_idf': True,\n",
       " 'vocabulary': None}"
      ]
     },
     "execution_count": 33,
     "metadata": {},
     "output_type": "execute_result"
    }
   ],
   "source": [
    "vector.get_params(deep=True)"
   ]
  },
  {
   "cell_type": "code",
   "execution_count": 34,
   "id": "9d37773f-74cb-4521-b4c3-d1f0843a2569",
   "metadata": {},
   "outputs": [],
   "source": [
    "vector_arr = vector.fit_transform(df['ind_feature'])"
   ]
  },
  {
   "cell_type": "markdown",
   "id": "9b8e7ed3-1808-42ec-b187-6b265797025e",
   "metadata": {},
   "source": [
    "# Split the data"
   ]
  },
  {
   "cell_type": "code",
   "execution_count": 36,
   "id": "dc8df737-0ebd-4032-a62f-2532064c71ce",
   "metadata": {},
   "outputs": [],
   "source": [
    "from sklearn.model_selection import train_test_split"
   ]
  },
  {
   "cell_type": "code",
   "execution_count": 37,
   "id": "842114a7-a3b6-4f0d-b10e-f21471255381",
   "metadata": {},
   "outputs": [],
   "source": [
    "X_train,X_test,y_train,y_test = train_test_split(vector_arr,df['dep_feature'],test_size=0.2,random_state=45)"
   ]
  },
  {
   "cell_type": "code",
   "execution_count": 38,
   "id": "a7bf06aa-c395-422e-bda5-234fb84893ec",
   "metadata": {},
   "outputs": [],
   "source": [
    "# Check the classes are split into balanced or not"
   ]
  },
  {
   "cell_type": "code",
   "execution_count": 39,
   "id": "248ce5ac-2ab5-4f81-b713-27a238084886",
   "metadata": {},
   "outputs": [
    {
     "data": {
      "text/plain": [
       "dep_feature\n",
       "0    41\n",
       "1    39\n",
       "Name: count, dtype: int64"
      ]
     },
     "execution_count": 39,
     "metadata": {},
     "output_type": "execute_result"
    }
   ],
   "source": [
    "y_train.value_counts()"
   ]
  },
  {
   "cell_type": "code",
   "execution_count": 40,
   "id": "a0c5da51-e8b6-4017-b4de-bedda27b4f4b",
   "metadata": {},
   "outputs": [
    {
     "data": {
      "text/plain": [
       "dep_feature\n",
       "1    10\n",
       "0    10\n",
       "Name: count, dtype: int64"
      ]
     },
     "execution_count": 40,
     "metadata": {},
     "output_type": "execute_result"
    }
   ],
   "source": [
    "y_test.value_counts()"
   ]
  },
  {
   "cell_type": "markdown",
   "id": "a6a05243-fe7b-4a42-a2b7-dccbec34e158",
   "metadata": {},
   "source": [
    "# Using Naive Bayes we can create an object of the model"
   ]
  },
  {
   "cell_type": "code",
   "execution_count": 42,
   "id": "05fc05c9-1949-4578-aae7-5b521fa4ff99",
   "metadata": {},
   "outputs": [],
   "source": [
    "from sklearn.naive_bayes import MultinomialNB"
   ]
  },
  {
   "cell_type": "code",
   "execution_count": 43,
   "id": "9e06577a-e894-443b-93e6-8f0bbeecaa76",
   "metadata": {},
   "outputs": [],
   "source": [
    "nb_model = MultinomialNB()"
   ]
  },
  {
   "cell_type": "markdown",
   "id": "7b06de80-386e-4c23-a789-5786e52c38aa",
   "metadata": {},
   "source": [
    "# Accuracy on Validation "
   ]
  },
  {
   "cell_type": "code",
   "execution_count": 66,
   "id": "ac9546e2-4a47-42a2-aec0-a2191addf458",
   "metadata": {},
   "outputs": [
    {
     "name": "stdout",
     "output_type": "stream",
     "text": [
      "Cross-Validation Results (Accuracy):\n",
      "  Fold 1: 95.00%\n",
      "  Fold 2: 90.00%\n",
      "  Fold 3: 100.00%\n",
      "  Fold 4: 65.00%\n",
      "  Fold 5: 100.00%\n",
      "Mean Accuracy: 90.00%\n"
     ]
    }
   ],
   "source": [
    "from sklearn.model_selection import KFold,cross_val_score\n",
    "num_folds = 5\n",
    "kf = KFold(n_splits=num_folds, shuffle=True, random_state=42)\n",
    "cross_val_results = cross_val_score(nb_model,vector_arr,df['dep_feature'],cv=kf)\n",
    "print(\"Cross-Validation Results (Accuracy):\")\n",
    "for i, result in enumerate(cross_val_results, 1):\n",
    "    print(f\"  Fold {i}: {result * 100:.2f}%\")\n",
    "    \n",
    "print(f'Mean Accuracy: {cross_val_results.mean()* 100:.2f}%')"
   ]
  },
  {
   "cell_type": "markdown",
   "id": "75a013f3-d32e-4098-ac83-4df72432692c",
   "metadata": {},
   "source": [
    "# Train the model"
   ]
  },
  {
   "cell_type": "code",
   "execution_count": null,
   "id": "628494dd-fd49-4cf4-8577-3093d306aff6",
   "metadata": {},
   "outputs": [],
   "source": [
    "nb_model.fit(X_train,y_train)"
   ]
  },
  {
   "cell_type": "markdown",
   "id": "87de47b9-dcde-468f-905c-726d725bdd23",
   "metadata": {},
   "source": [
    "# Testing the model"
   ]
  },
  {
   "cell_type": "code",
   "execution_count": null,
   "id": "c3dce235-b82a-462e-b476-c574db0a9019",
   "metadata": {},
   "outputs": [],
   "source": [
    "y_pred = nb_model.predict(X_test)"
   ]
  },
  {
   "cell_type": "code",
   "execution_count": null,
   "id": "c3c70c36-12d5-4a24-b49b-5b9a2e1b7840",
   "metadata": {},
   "outputs": [],
   "source": [
    "df_1 = pd.DataFrame({\n",
    "    \"Real Value\": y_test,   # or y_test.squeeze()\n",
    "    \"Predicted Value\": y_pred\n",
    "})"
   ]
  },
  {
   "cell_type": "code",
   "execution_count": null,
   "id": "8f9a9e36-d0e7-4a7d-89f5-871e525b90d1",
   "metadata": {},
   "outputs": [],
   "source": [
    "df_1.head()"
   ]
  },
  {
   "cell_type": "markdown",
   "id": "c9eeaf6d-3f7e-4b7d-b912-2afcd81a52d0",
   "metadata": {},
   "source": [
    "# Perfomance Metrics"
   ]
  },
  {
   "cell_type": "code",
   "execution_count": null,
   "id": "b0eadffa-fc12-4fb2-a1c6-b3744ddfc1ca",
   "metadata": {},
   "outputs": [],
   "source": [
    "from sklearn.metrics import confusion_matrix, f1_score, classification_report, accuracy_score, roc_auc_score, roc_curve, recall_score"
   ]
  },
  {
   "cell_type": "code",
   "execution_count": null,
   "id": "f4bb21c8-1520-47f0-848f-1caa1be3267a",
   "metadata": {},
   "outputs": [],
   "source": [
    "cm = confusion_matrix(y_test,y_pred)"
   ]
  },
  {
   "cell_type": "code",
   "execution_count": null,
   "id": "18e5229c-faa0-4e10-b2fb-cb5d9e0aaaeb",
   "metadata": {},
   "outputs": [],
   "source": [
    "import seaborn as sns\n",
    "import matplotlib.pyplot as plt\n",
    "sns.heatmap(cm, \n",
    "            annot=True,\n",
    "            fmt='g', \n",
    "            xticklabels=['Not-Product','Product'],\n",
    "            yticklabels=['Not-Product','Product'])\n",
    "plt.ylabel('Actual', fontsize=13)\n",
    "plt.title('Confusion Matrix', fontsize=17, pad=20)\n",
    "plt.gca().xaxis.set_label_position('top') \n",
    "plt.xlabel('Prediction', fontsize=13)\n",
    "plt.gca().xaxis.tick_top()\n",
    "\n",
    "plt.gca().figure.subplots_adjust(bottom=0.2)\n",
    "plt.show()"
   ]
  },
  {
   "cell_type": "code",
   "execution_count": null,
   "id": "d90b73ba-423e-4fbe-88a0-3b355f7b9b6e",
   "metadata": {},
   "outputs": [],
   "source": [
    "print(\"Classification Report: \", classification_report(y_test,y_pred))"
   ]
  },
  {
   "cell_type": "code",
   "execution_count": null,
   "id": "bacbbf99-b556-48a4-9d91-55c4949c39e3",
   "metadata": {},
   "outputs": [],
   "source": [
    "accuracy = accuracy_score(y_test.values,y_pred)\n",
    "print(\"Accuracy of model: \",accuracy)"
   ]
  },
  {
   "cell_type": "code",
   "execution_count": null,
   "id": "61a6b151-436b-4173-89ad-6db2f23957b3",
   "metadata": {},
   "outputs": [],
   "source": [
    "print(f\"AUC Score:- {roc_auc_score(y_test,y_pred)} \")"
   ]
  },
  {
   "cell_type": "code",
   "execution_count": null,
   "id": "9ebaa419-52e2-4415-8f5f-a9c83fd94d6b",
   "metadata": {},
   "outputs": [],
   "source": [
    "fpr, tpr, thresholds = roc_curve(y_test, y_pred)\n",
    "auc_score = roc_auc_score(y_test,y_pred)"
   ]
  },
  {
   "cell_type": "code",
   "execution_count": null,
   "id": "a367f643-75af-406d-9a91-5872ab99f8a7",
   "metadata": {},
   "outputs": [],
   "source": [
    "#  Plot ROC curve\n",
    "plt.figure(figsize=(8,6))\n",
    "plt.plot(fpr, tpr, label=f'ROC Curve (AUC = {auc_score:.2f})')\n",
    "plt.plot([0, 1], [0, 1], 'k--', label='Random Classifier')  # Diagonal line\n",
    "plt.xlabel('False Positive Rate (FPR)')\n",
    "plt.ylabel('True Positive Rate (TPR)')\n",
    "plt.title('Receiver Operating Characteristic (ROC) Curve')\n",
    "plt.legend(loc='lower right')\n",
    "plt.show()"
   ]
  },
  {
   "cell_type": "markdown",
   "id": "c2e76378-8716-40e1-a623-68c0ea9bf904",
   "metadata": {},
   "source": [
    "# Save the model and TF-IDF Vectorizer object into pickle file"
   ]
  },
  {
   "cell_type": "code",
   "execution_count": null,
   "id": "643e4349-47da-4c8b-9cfa-c76726ef9501",
   "metadata": {},
   "outputs": [],
   "source": [
    "import pickle as pk"
   ]
  },
  {
   "cell_type": "code",
   "execution_count": null,
   "id": "ba74870e-9efd-4b05-90b2-cecc2fa08166",
   "metadata": {},
   "outputs": [],
   "source": [
    "pk.dump(nb_model,open(\"nb_model.pkl\",'wb'))"
   ]
  },
  {
   "cell_type": "code",
   "execution_count": null,
   "id": "ca060537-b256-4115-a1c8-5c1bd3c8a947",
   "metadata": {},
   "outputs": [],
   "source": [
    "pk.dump(vector,open(\"vectorizer.pkl\",'wb'))"
   ]
  }
 ],
 "metadata": {
  "kernelspec": {
   "display_name": "Python 3 (ipykernel)",
   "language": "python",
   "name": "python3"
  },
  "language_info": {
   "codemirror_mode": {
    "name": "ipython",
    "version": 3
   },
   "file_extension": ".py",
   "mimetype": "text/x-python",
   "name": "python",
   "nbconvert_exporter": "python",
   "pygments_lexer": "ipython3",
   "version": "3.12.4"
  }
 },
 "nbformat": 4,
 "nbformat_minor": 5
}
